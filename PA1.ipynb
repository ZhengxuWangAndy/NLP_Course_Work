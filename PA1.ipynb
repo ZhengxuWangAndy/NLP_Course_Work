{
 "cells": [
  {
   "cell_type": "markdown",
   "metadata": {},
   "source": [
    "# Zhengxu Wang\n",
    "zhengxu@bu.edu"
   ]
  },
  {
   "cell_type": "markdown",
   "metadata": {},
   "source": [
    "### Use tweepy to access the tweet platform to obtain data, and the query statement restricts the language and content. A total of 10,000 pieces of data are acquired and saved as csv"
   ]
  },
  {
   "cell_type": "code",
   "execution_count": 2,
   "metadata": {},
   "outputs": [],
   "source": [
    "import tweepy\n",
    "client = tweepy.Client(bearer_token='AAAAAAAAAAAAAAAAAAAAAGl1hAEAAAAAvHDZpENUinmoaM3e1EdQTyxEbtI%3D2SjBFtQBWxin1ZHoIXazuE22fNEvzdO3D3aTnzhfLS4pr1HWI3')"
   ]
  },
  {
   "cell_type": "code",
   "execution_count": 3,
   "metadata": {},
   "outputs": [],
   "source": [
    "query = 'nft lang:en -has:links -is:retweet'\n",
    "tweets = list(tweepy.Paginator(client.search_recent_tweets, query=query, tweet_fields='created_at', max_results=100).flatten(limit=10000))"
   ]
  },
  {
   "cell_type": "code",
   "execution_count": 4,
   "metadata": {},
   "outputs": [
    {
     "data": {
      "text/plain": [
       "10000"
      ]
     },
     "execution_count": 4,
     "metadata": {},
     "output_type": "execute_result"
    }
   ],
   "source": [
    "len(tweets)"
   ]
  },
  {
   "cell_type": "code",
   "execution_count": 24,
   "metadata": {},
   "outputs": [],
   "source": [
    "import csv\n",
    "\n",
    "driveFolderDirectory = './'\n",
    "savedFileName = 'tweets.csv'\n",
    "pathToSave = driveFolderDirectory + savedFileName\n",
    "\n",
    "with open(pathToSave, 'w', newline='') as csvfile:\n",
    "  fieldnames = ['idx','tweetId', 'tweetText', 'created_at']\n",
    "  writer = csv.DictWriter(csvfile, fieldnames=fieldnames)\n",
    "  writer.writeheader()\n",
    "  for i,tweet in enumerate(tweets):\n",
    "    writer.writerow({\n",
    "        'idx': i, \n",
    "        'tweetId': tweet.id,\n",
    "        'tweetText': tweet.data['text'], \n",
    "        'created_at': tweet.data['created_at']})"
   ]
  },
  {
   "cell_type": "markdown",
   "metadata": {},
   "source": [
    "### Read data from csv file as dictionary type"
   ]
  },
  {
   "cell_type": "code",
   "execution_count": 7,
   "metadata": {},
   "outputs": [],
   "source": [
    "tweetList = []\n",
    "with open('./tweets.csv') as f:\n",
    "    file = csv.DictReader(f)\n",
    "    for row in file:\n",
    "        tweetList.append(row)"
   ]
  },
  {
   "cell_type": "code",
   "execution_count": 9,
   "metadata": {},
   "outputs": [
    {
     "data": {
      "text/plain": [
       "[{'idx': '0',\n",
       "  'tweetId': '1572408558364528641',\n",
       "  'tweetText': 'Reply an #ETH adress #NFT.  Like &amp; RT 😄',\n",
       "  'created_at': '2022-09-21T02:13:08.000Z'},\n",
       " {'idx': '1',\n",
       "  'tweetId': '1572408551494275073',\n",
       "  'tweetText': 'Hello. Im looking for someone who selling NFT like ETH NFT. I will help you to sell your NFT through discord. Payment? We can talk about it. Just make sure your NFT is on Opensea. Thank you. DM mo for that. I know lots of people wants to buy ETH NFT.',\n",
       "  'created_at': '2022-09-21T02:13:07.000Z'},\n",
       " {'idx': '2',\n",
       "  'tweetId': '1572408549619429378',\n",
       "  'tweetText': '@lemondrip_nft @opensea What is your floor price send me DM on @NFTssaga',\n",
       "  'created_at': '2022-09-21T02:13:06.000Z'},\n",
       " {'idx': '3',\n",
       "  'tweetId': '1572408545009893377',\n",
       "  'tweetText': '@lotta_NFT 0x7b861D0af5CD0C765956d3a677A96B99aF4067FE',\n",
       "  'created_at': '2022-09-21T02:13:05.000Z'},\n",
       " {'idx': '4',\n",
       "  'tweetId': '1572408534784167941',\n",
       "  'tweetText': '@nft_jem @amazyio When taking care of your health makes you richer...what can be better than this?',\n",
       "  'created_at': '2022-09-21T02:13:03.000Z'}]"
      ]
     },
     "execution_count": 9,
     "metadata": {},
     "output_type": "execute_result"
    }
   ],
   "source": [
    "tweetList[0:5]"
   ]
  },
  {
   "cell_type": "markdown",
   "metadata": {},
   "source": [
    "### Convert all data to lowercase using re"
   ]
  },
  {
   "cell_type": "code",
   "execution_count": 142,
   "metadata": {},
   "outputs": [],
   "source": [
    "import re\n",
    "def lower_case(mapping):\n",
    "    s = mapping.group(0).lower()\n",
    "    t = f'{s}'\n",
    "    return t"
   ]
  },
  {
   "cell_type": "code",
   "execution_count": 143,
   "metadata": {},
   "outputs": [],
   "source": [
    "for i in range(len(tweetList)):\n",
    "    tweetList[i]['tweetText'] = re.sub(r\"([A-Z])\", lower_case,tweetList[i]['tweetText'])"
   ]
  },
  {
   "cell_type": "markdown",
   "metadata": {},
   "source": [
    "## Task 2"
   ]
  },
  {
   "cell_type": "markdown",
   "metadata": {},
   "source": [
    "### remove numbers"
   ]
  },
  {
   "cell_type": "code",
   "execution_count": 144,
   "metadata": {},
   "outputs": [],
   "source": [
    "for i in range(len(tweetList)):\n",
    "    tweetList[i]['tweetText'] = re.sub(r\"[0-9]+\", '', tweetList[i]['tweetText'])"
   ]
  },
  {
   "cell_type": "markdown",
   "metadata": {},
   "source": [
    "### remove URLs"
   ]
  },
  {
   "cell_type": "code",
   "execution_count": 145,
   "metadata": {},
   "outputs": [],
   "source": [
    "for i in range(len(tweetList)):\n",
    "    tweetList[i]['tweetText'] = re.sub(r'^(https:\\S+)', ' ', tweetList[i]['tweetText'])\n",
    "    tweetList[i]['tweetText'] = re.sub(r'[a-zA-Z]+://[^\\s]*', '', tweetList[i]['tweetText'])"
   ]
  },
  {
   "cell_type": "markdown",
   "metadata": {},
   "source": [
    "### remove hashtags"
   ]
  },
  {
   "cell_type": "code",
   "execution_count": 146,
   "metadata": {},
   "outputs": [],
   "source": [
    "for i in range(len(tweetList)):\n",
    "    tweetList[i]['tweetText'] = re.sub(r'([#][\\w-]+)', '', tweetList[i]['tweetText'])"
   ]
  },
  {
   "cell_type": "markdown",
   "metadata": {},
   "source": [
    "## Task3"
   ]
  },
  {
   "cell_type": "markdown",
   "metadata": {},
   "source": [
    "### Remove the affixes -ing, -ed, and -ly from all words."
   ]
  },
  {
   "cell_type": "code",
   "execution_count": 147,
   "metadata": {},
   "outputs": [],
   "source": [
    "for i in range(len(tweetList)):\n",
    "    wordList = re.split('(\\W+)', tweetList[i]['tweetText'])\n",
    "    tweetList[i]['tweetText'] = ''.join([re.sub('(ing|ed|ly)$', '', w) for w in wordList])"
   ]
  },
  {
   "cell_type": "markdown",
   "metadata": {},
   "source": [
    "## Task 4"
   ]
  },
  {
   "cell_type": "markdown",
   "metadata": {},
   "source": [
    "### Replace all forms of the verb “to be” with the stem be."
   ]
  },
  {
   "cell_type": "code",
   "execution_count": 148,
   "metadata": {},
   "outputs": [],
   "source": [
    "for i in range(len(tweetList)):\n",
    "    tweetList[i]['tweetText'] = re.sub(' to be ', ' be ', tweetList[i]['tweetText'])\n",
    "    wordList = re.split('(\\W+)', tweetList[i]['tweetText'])\n",
    "    tweetList[i]['tweetText'] = ''.join([re.sub('(being|been|am|is|are|was|were|will)$', 'be', w) for w in wordList])"
   ]
  },
  {
   "cell_type": "markdown",
   "metadata": {},
   "source": [
    "## Task 5"
   ]
  },
  {
   "cell_type": "markdown",
   "metadata": {},
   "source": [
    "### Remove all instances of the 10 most common words in English"
   ]
  },
  {
   "cell_type": "code",
   "execution_count": 150,
   "metadata": {},
   "outputs": [],
   "source": [
    "for i in range(len(tweetList)):\n",
    "    wordList = re.split('(\\W+)', tweetList[i]['tweetText'])\n",
    "    tweetList[i]['tweetText'] = ''.join([re.sub('(the|be|to|of|and|a|in|that|have|I)&', '', w) for w in wordList])"
   ]
  },
  {
   "cell_type": "markdown",
   "metadata": {},
   "source": [
    "## Task 6\n",
    "#### By analyzing the sentences I found there are lots of @somebody (mention someone), emojis, and hyperlinks. These are usually not a word. So I need to remove it to modify the corpus."
   ]
  },
  {
   "cell_type": "code",
   "execution_count": 162,
   "metadata": {},
   "outputs": [],
   "source": [
    "def cleanEmoji(desstr,restr=''):   \n",
    "    try:  \n",
    "        co = re.compile(u'['u'\\U0001F300-\\U0001F64F' u'\\U0001F680-\\U0001F6FF'u'\\u2600-\\u2B55]+')  \n",
    "    except re.error:  \n",
    "        co = re.compile(u'('u'\\ud83c[\\udf00-\\udfff]|'u'\\ud83d[\\udc00-\\ude4f\\ude80-\\udeff]|'u'[\\u2600-\\u2B55])+')  \n",
    "    return co.sub(restr, desstr)"
   ]
  },
  {
   "cell_type": "markdown",
   "metadata": {},
   "source": [
    "### The emoji codes in the text are as follows, and the emoji can be removed by removing the codes in the following ranges\n",
    "<U+1F300> - <U+1F5FF>      Symbols and Pictograms  \n",
    "<U+1F600> - <U+1F64F>      Emoticons  \n",
    "<U+1F680> - <U+1F6FF>      Traffic symbols and map symbols  \n",
    "<U+2600>  - <U+2B55>       other symbols"
   ]
  },
  {
   "cell_type": "code",
   "execution_count": 163,
   "metadata": {},
   "outputs": [],
   "source": [
    "for i in range(len(tweetList)):\n",
    "    tweetList[i]['tweetText'] = cleanEmoji(tweetList[i]['tweetText'])"
   ]
  },
  {
   "cell_type": "code",
   "execution_count": 164,
   "metadata": {},
   "outputs": [],
   "source": [
    "for i in range(len(tweetList)):\n",
    "    tweetList[i]['tweetText'] = re.sub(r'([@|&][\\w-]+)', '', tweetList[i]['tweetText'])"
   ]
  },
  {
   "cell_type": "markdown",
   "metadata": {},
   "source": [
    "## Task 7"
   ]
  },
  {
   "cell_type": "markdown",
   "metadata": {},
   "source": [
    "### Using space punctuation and punctuation terminators($), a Twitter text is divided into sentences, and then the sentences are divided into words using space, and blank characters and non-letter characters are removed during the traversal process."
   ]
  },
  {
   "cell_type": "code",
   "execution_count": 166,
   "metadata": {},
   "outputs": [],
   "source": [
    "corpus = []\n",
    "for i in range(len(tweetList)):\n",
    "    corpus.append(tweetList[i]['tweetText'])"
   ]
  },
  {
   "cell_type": "code",
   "execution_count": 228,
   "metadata": {},
   "outputs": [],
   "source": [
    "sentences = []\n",
    "for i in range(len(corpus)):\n",
    "    cutList = re.split(r\"(\\. |\\! |\\? |\\.$|\\!$|\\?$)\", corpus[i])\n",
    "    for j in range(len(cutList)):\n",
    "        cutList[j] = re.sub('(\\W+)( )|\\.$|\\!$|\\?$', '', cutList[j])\n",
    "    cutList = [q for q in cutList if q != \"\"]\n",
    "    sentences += cutList"
   ]
  },
  {
   "cell_type": "code",
   "execution_count": 259,
   "metadata": {},
   "outputs": [],
   "source": [
    "words = []\n",
    "for i in range(len(sentences)):\n",
    "    tmp = re.split(' ',sentences[i])\n",
    "    tmp = [j for j in tmp if j != \"\"]\n",
    "    for j in range(len(tmp)):\n",
    "        tmp[j] = re.sub('(\\W+)', '', tmp[j])\n",
    "    words.append([j for j in tmp if j != \"\"])\n",
    "words = [j for j in words if j != []]"
   ]
  },
  {
   "cell_type": "markdown",
   "metadata": {},
   "source": [
    "## Task 8"
   ]
  },
  {
   "cell_type": "markdown",
   "metadata": {},
   "source": [
    "### After data cleaning, traverse each sentence and calculate the number of words in each sentence and clean empty sentences."
   ]
  },
  {
   "cell_type": "code",
   "execution_count": 260,
   "metadata": {},
   "outputs": [],
   "source": [
    "sentence_length = []\n",
    "for word in words:\n",
    "    sentence_length.append(len(word))"
   ]
  },
  {
   "cell_type": "markdown",
   "metadata": {},
   "source": [
    "### Use set and dictionary to count the length and number of sentences. The statistical results are as follows, and sentences with 8 words are the most."
   ]
  },
  {
   "cell_type": "code",
   "execution_count": 264,
   "metadata": {},
   "outputs": [],
   "source": [
    "keys = set(sentence_length)"
   ]
  },
  {
   "cell_type": "code",
   "execution_count": 271,
   "metadata": {},
   "outputs": [],
   "source": [
    "histDict = {}\n",
    "for key in keys:\n",
    "    histDict[str(key)] = 0\n",
    "\n",
    "for value in sentence_length:\n",
    "    histDict[str(value)] += 1"
   ]
  },
  {
   "cell_type": "code",
   "execution_count": 276,
   "metadata": {},
   "outputs": [
    {
     "data": {
      "text/plain": [
       "dict_items([('1', 1246), ('2', 1208), ('3', 1212), ('4', 892), ('5', 758), ('6', 762), ('7', 543), ('8', 1739), ('9', 554), ('10', 423), ('11', 361), ('12', 518), ('13', 637), ('14', 214), ('15', 178), ('16', 238), ('17', 163), ('18', 159), ('19', 82), ('20', 84), ('21', 86), ('22', 206), ('23', 132), ('24', 75), ('25', 42), ('26', 56), ('27', 35), ('28', 38), ('29', 28), ('30', 100), ('31', 28), ('32', 21), ('33', 25), ('34', 178), ('35', 26), ('36', 14), ('37', 11), ('38', 27), ('39', 14), ('40', 7), ('41', 12), ('42', 13), ('43', 6), ('44', 7), ('45', 13), ('46', 4), ('47', 16), ('48', 5), ('54', 1), ('56', 1)])"
      ]
     },
     "execution_count": 276,
     "metadata": {},
     "output_type": "execute_result"
    }
   ],
   "source": [
    "histDict.items()"
   ]
  },
  {
   "cell_type": "markdown",
   "metadata": {},
   "source": [
    "### Use the hist function in the matplotlib library to display a histogram of sentence length to display its distribution."
   ]
  },
  {
   "cell_type": "code",
   "execution_count": 284,
   "metadata": {},
   "outputs": [
    {
     "data": {
      "text/plain": [
       "(array([1.246e+03, 1.208e+03, 1.212e+03, 8.920e+02, 7.580e+02, 7.620e+02,\n",
       "        5.430e+02, 1.739e+03, 5.540e+02, 4.230e+02, 3.610e+02, 5.180e+02,\n",
       "        6.370e+02, 2.140e+02, 1.780e+02, 2.380e+02, 1.630e+02, 1.590e+02,\n",
       "        8.200e+01, 8.400e+01, 8.600e+01, 2.060e+02, 1.320e+02, 7.500e+01,\n",
       "        4.200e+01, 5.600e+01, 3.500e+01, 3.800e+01, 2.800e+01, 1.000e+02,\n",
       "        2.800e+01, 2.100e+01, 2.500e+01, 1.780e+02, 2.600e+01, 1.400e+01,\n",
       "        1.100e+01, 2.700e+01, 1.400e+01, 7.000e+00, 1.200e+01, 1.300e+01,\n",
       "        6.000e+00, 7.000e+00, 1.300e+01, 4.000e+00, 1.600e+01, 5.000e+00,\n",
       "        0.000e+00, 0.000e+00, 0.000e+00, 0.000e+00, 0.000e+00, 1.000e+00,\n",
       "        0.000e+00, 1.000e+00]),\n",
       " array([ 1.        ,  1.98214286,  2.96428571,  3.94642857,  4.92857143,\n",
       "         5.91071429,  6.89285714,  7.875     ,  8.85714286,  9.83928571,\n",
       "        10.82142857, 11.80357143, 12.78571429, 13.76785714, 14.75      ,\n",
       "        15.73214286, 16.71428571, 17.69642857, 18.67857143, 19.66071429,\n",
       "        20.64285714, 21.625     , 22.60714286, 23.58928571, 24.57142857,\n",
       "        25.55357143, 26.53571429, 27.51785714, 28.5       , 29.48214286,\n",
       "        30.46428571, 31.44642857, 32.42857143, 33.41071429, 34.39285714,\n",
       "        35.375     , 36.35714286, 37.33928571, 38.32142857, 39.30357143,\n",
       "        40.28571429, 41.26785714, 42.25      , 43.23214286, 44.21428571,\n",
       "        45.19642857, 46.17857143, 47.16071429, 48.14285714, 49.125     ,\n",
       "        50.10714286, 51.08928571, 52.07142857, 53.05357143, 54.03571429,\n",
       "        55.01785714, 56.        ]),\n",
       " <BarContainer object of 56 artists>)"
      ]
     },
     "execution_count": 284,
     "metadata": {},
     "output_type": "execute_result"
    },
    {
     "data": {
      "image/png": "[encoded data removed]",
      "text/plain": [
       "<Figure size 640x480 with 1 Axes>"
      ]
     },
     "metadata": {},
     "output_type": "display_data"
    }
   ],
   "source": [
    "import matplotlib.pyplot as plt\n",
    "plt.hist(sentence_length,bins=56)"
   ]
  },
  {
   "cell_type": "code",
   "execution_count": null,
   "metadata": {},
   "outputs": [],
   "source": []
  }
 ],
 "metadata": {
  "kernelspec": {
   "display_name": "Python 3.9.6 64-bit",
   "language": "python",
   "name": "python3"
  },
  "language_info": {
   "codemirror_mode": {
    "name": "ipython",
    "version": 3
   },
   "file_extension": ".py",
   "mimetype": "text/x-python",
   "name": "python",
   "nbconvert_exporter": "python",
   "pygments_lexer": "ipython3",
   "version": "3.9.6"
  },
  "orig_nbformat": 4,
  "vscode": {
   "interpreter": {
    "hash": "31f2aee4e71d21fbe5cf8b01ff0e069b9275f58929596ceb00d14d90e3e16cd6"
   }
  }
 },
 "nbformat": 4,
 "nbformat_minor": 2
}
